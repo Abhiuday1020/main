{
 "cells": [
  {
   "cell_type": "markdown",
   "id": "cddc3036",
   "metadata": {},
   "source": [
    "# Python"
   ]
  },
  {
   "cell_type": "code",
   "execution_count": 5,
   "id": "5eaab705",
   "metadata": {},
   "outputs": [],
   "source": [
    "first = \"Abhiuday\"\n",
    "last = \"chauhan\""
   ]
  },
  {
   "cell_type": "code",
   "execution_count": 6,
   "id": "8f475625",
   "metadata": {},
   "outputs": [
    {
     "name": "stdout",
     "output_type": "stream",
     "text": [
      "Hello my name is Abhiuday and last name is chauhan\n"
     ]
    }
   ],
   "source": [
    "print(\"Hello my name is {} and last name is {}\".format(first,last))"
   ]
  },
  {
   "cell_type": "code",
   "execution_count": 7,
   "id": "8c605e39",
   "metadata": {},
   "outputs": [
    {
     "data": {
      "text/plain": [
       "8"
      ]
     },
     "execution_count": 7,
     "metadata": {},
     "output_type": "execute_result"
    }
   ],
   "source": [
    "len(\"Abhiuday\")"
   ]
  },
  {
   "cell_type": "code",
   "execution_count": 8,
   "id": "55f36ca5",
   "metadata": {},
   "outputs": [
    {
     "data": {
      "text/plain": [
       "str"
      ]
     },
     "execution_count": 8,
     "metadata": {},
     "output_type": "execute_result"
    }
   ],
   "source": [
    "type(\"good morning\")"
   ]
  },
  {
   "cell_type": "code",
   "execution_count": 9,
   "id": "0c378506",
   "metadata": {},
   "outputs": [
    {
     "data": {
      "text/plain": [
       "list"
      ]
     },
     "execution_count": 9,
     "metadata": {},
     "output_type": "execute_result"
    }
   ],
   "source": [
    "type([5,9,9.0,34,\"hi\"])"
   ]
  },
  {
   "cell_type": "code",
   "execution_count": null,
   "id": "c9b1c11e",
   "metadata": {},
   "outputs": [],
   "source": []
  }
 ],
 "metadata": {
  "kernelspec": {
   "display_name": "Python 3 (ipykernel)",
   "language": "python",
   "name": "python3"
  },
  "language_info": {
   "codemirror_mode": {
    "name": "ipython",
    "version": 3
   },
   "file_extension": ".py",
   "mimetype": "text/x-python",
   "name": "python",
   "nbconvert_exporter": "python",
   "pygments_lexer": "ipython3",
   "version": "3.11.5"
  }
 },
 "nbformat": 4,
 "nbformat_minor": 5
}
